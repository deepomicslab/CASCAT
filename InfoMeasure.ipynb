{
 "cells": [
  {
   "metadata": {},
   "cell_type": "markdown",
   "source": "## Basic Usage",
   "id": "98656285dfbb2706"
  },
  {
   "metadata": {
    "ExecuteTime": {
     "end_time": "2024-09-22T10:32:33.090979Z",
     "start_time": "2024-09-22T10:32:32.589814Z"
    }
   },
   "cell_type": "code",
   "source": [
    "import numpy as np\n",
    "import random\n",
    "from InformationMeasure.Measures import get_entropy, get_conditional_entropy, get_mutual_information, \\\n",
    "    get_conditional_mutual_information, get_total_correlation\n",
    "\n",
    "data_1 = np.array([random.random() for _ in range(100)])\n",
    "data_2 = np.array([random.random() for _ in range(100)])\n",
    "data_3 = np.array([random.random() for _ in range(100)])\n",
    "\n",
    "# Entropy\n",
    "ent_1 = get_entropy(valuesX=data_1)\n",
    "ent_12 = get_entropy(valuesX=data_1, valuesY=data_2)\n",
    "ent_123 = get_entropy(valuesX=data_1, valuesY=data_2, valuesZ=data_3)\n",
    "\n",
    "# Conditional entropy\n",
    "ce_1_on_2 = get_conditional_entropy(valuesX=data_1, valuesY=data_2)\n",
    "\n",
    "# Mutual information\n",
    "mi_12 = get_mutual_information(valuesX=data_1, valuesY=data_2)\n",
    "\n",
    "# Conditional mutual information\n",
    "cmi_12_on_3 = get_conditional_mutual_information(valuesX=data_1, valuesY=data_2, valuesZ=data_3)\n",
    "\n",
    "# Total correlation\n",
    "tc_123 = get_total_correlation(valuesX=data_1, valuesY=data_2, valuesZ=data_3)"
   ],
   "id": "dedcd4abf0fd8a92",
   "outputs": [
    {
     "name": "stdout",
     "output_type": "stream",
     "text": [
      "3.255950817400481 3.1689187122687583 5.705371475455081\n"
     ]
    }
   ],
   "execution_count": 1
  },
  {
   "metadata": {},
   "cell_type": "markdown",
   "source": [
    "### Config options\n",
    "- estimator (String) Estimator for estimating the probability distribution\n",
    "    - ``maximum_likelihood`` (default)\n",
    "    - ``miller_madow``\n",
    "    - ``dirichlet``\n",
    "    - ``shrinkage``\n",
    "- base (int) Base of the logarithm, i.e. the units for entropy\n",
    "    - 2 (default)\n",
    "- mode (String) Method for discretizing\n",
    "    -  ``uniform_width`` (default)\n",
    "- get_number_of_bins (Function) Customized function for calculating the number of bins (will only be used if number_of_bins is 0)\n",
    "    - get_root_n (default)\n"
   ],
   "id": "3950e28cc34c40d0"
  },
  {
   "metadata": {},
   "cell_type": "markdown",
   "source": [
    "## Advanced Usage\n",
    "\n",
    "- KDEMeasure"
   ],
   "id": "8c67fea1d11f8039"
  },
  {
   "metadata": {
    "ExecuteTime": {
     "end_time": "2024-09-22T11:22:53.440131Z",
     "start_time": "2024-09-22T11:22:52.519038Z"
    }
   },
   "cell_type": "code",
   "source": [
    "from InformationMeasure.KDEMeasures import get_kde_mutual_information, get_kde_conditional_mutual_information, get_kde_conditional_mutual_information2\n",
    "\n",
    "# Mutual information\n",
    "kde_mi = get_kde_mutual_information(valuesX=data_1, valuesY=data_2)\n",
    "\n",
    "# Conditional mutual information\n",
    "kde_cmi_1 = get_kde_conditional_mutual_information(valuesX=data_1, valuesY=data_2, valuesZ=data_3)\n",
    "#  use numba speed up\n",
    "kde_cmi_2 = get_kde_conditional_mutual_information2(valuesX=data_1, valuesY=data_2, valuesZ=data_3)"
   ],
   "id": "cb210598d0826d92",
   "outputs": [],
   "execution_count": 3
  }
 ],
 "metadata": {
  "kernelspec": {
   "display_name": "Python 3",
   "language": "python",
   "name": "python3"
  },
  "language_info": {
   "codemirror_mode": {
    "name": "ipython",
    "version": 2
   },
   "file_extension": ".py",
   "mimetype": "text/x-python",
   "name": "python",
   "nbconvert_exporter": "python",
   "pygments_lexer": "ipython2",
   "version": "2.7.6"
  }
 },
 "nbformat": 4,
 "nbformat_minor": 5
}
